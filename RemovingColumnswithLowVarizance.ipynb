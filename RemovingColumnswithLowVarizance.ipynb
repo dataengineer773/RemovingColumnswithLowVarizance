{
 "cells": [
  {
   "cell_type": "code",
   "execution_count": 1,
   "id": "a415de7c-b6d1-4f3a-ab85-78cce65e197e",
   "metadata": {},
   "outputs": [],
   "source": [
    "# delete columns where number of unique values is less than 1% of the rows\n",
    "from pandas import read_csv"
   ]
  },
  {
   "cell_type": "code",
   "execution_count": 2,
   "id": "be00249b-9331-4938-98d0-048c40015b59",
   "metadata": {},
   "outputs": [
    {
     "name": "stdout",
     "output_type": "stream",
     "text": [
      "(937, 50)\n"
     ]
    }
   ],
   "source": [
    "# load the dataset\n",
    "df = read_csv('oil-spill.csv', header = None)\n",
    "print(df.shape)"
   ]
  },
  {
   "cell_type": "code",
   "execution_count": 3,
   "id": "a26f8ba5-f13a-4f99-9601-1d884ec0bdac",
   "metadata": {},
   "outputs": [],
   "source": [
    "# get number of unique values for each cilumn\n",
    "counts = df.nunique()"
   ]
  },
  {
   "cell_type": "code",
   "execution_count": 4,
   "id": "07114de7-6765-4661-9a57-e98b76e404b6",
   "metadata": {},
   "outputs": [
    {
     "name": "stdout",
     "output_type": "stream",
     "text": [
      "[21, 22, 24, 25, 26, 32, 36, 38, 39, 45, 49]\n"
     ]
    }
   ],
   "source": [
    "# record columns to delete\n",
    "to_del = [ i for i,v in enumerate(counts) if (float(v)/df.shape[0]*100) < 1]\n",
    "print(to_del)"
   ]
  },
  {
   "cell_type": "code",
   "execution_count": 5,
   "id": "8673e160-77e3-4f75-960a-42045aca2aeb",
   "metadata": {},
   "outputs": [
    {
     "name": "stdout",
     "output_type": "stream",
     "text": [
      "(937, 39)\n"
     ]
    }
   ],
   "source": [
    "# drop useless columns\n",
    "df.drop(to_del, axis=1, inplace=True)\n",
    "print(df.shape)"
   ]
  }
 ],
 "metadata": {
  "kernelspec": {
   "display_name": "Python 3 (ipykernel)",
   "language": "python",
   "name": "python3"
  },
  "language_info": {
   "codemirror_mode": {
    "name": "ipython",
    "version": 3
   },
   "file_extension": ".py",
   "mimetype": "text/x-python",
   "name": "python",
   "nbconvert_exporter": "python",
   "pygments_lexer": "ipython3",
   "version": "3.10.12"
  }
 },
 "nbformat": 4,
 "nbformat_minor": 5
}
